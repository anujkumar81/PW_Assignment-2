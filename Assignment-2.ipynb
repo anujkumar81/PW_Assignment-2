{
 "cells": [
  {
   "cell_type": "code",
   "execution_count": null,
   "id": "a942779b-b949-4ea2-886c-d39893d974a8",
   "metadata": {},
   "outputs": [],
   "source": [
    "# Question 1:- \n",
    "'''How do you comment code in Python? What are the different types of comments?'''\n",
    "\n",
    "\n",
    "# This is a single-line comment\n",
    "print(\"Hello, World!\")  # This is also a comment\n",
    "\n",
    "\n",
    "\"\"\"\n",
    "This is a multi-line comment (docstring) for a function.\n",
    "It provides details about the function's purpose, parameters, and return value.\n",
    "\"\"\"\n",
    "def my_function():\n",
    "    print(\"This is a function.\")"
   ]
  },
  {
   "cell_type": "code",
   "execution_count": 11,
   "id": "19decfc5-1fd0-4410-b0c7-8f9e61e1cb97",
   "metadata": {},
   "outputs": [],
   "source": [
    "# Question 2:- \n",
    "\"\"\"What are variables in Python? How do you declare and assign values to variables?\"\"\"\n",
    "\n",
    "\n",
    "# Assigning an integer value to a variable\n",
    "age = 30\n",
    "\n",
    "# Assigning a string value to a variable\n",
    "name = \"John Doe\"\n",
    "\n",
    "# Assigning a floating-point value to a variable\n",
    "salary = 2500.75\n",
    "\n",
    "# Assigning a boolean value to a variable\n",
    "is_student = True"
   ]
  },
  {
   "cell_type": "code",
   "execution_count": 10,
   "id": "00aa3415-d7e2-489b-b9af-eebb797feb6a",
   "metadata": {},
   "outputs": [
    {
     "name": "stdout",
     "output_type": "stream",
     "text": [
      "8.14\n"
     ]
    }
   ],
   "source": [
    "# Question 3:- \n",
    "\"\"\"How do you convert one data type to another in Python?\"\"\"\n",
    "\n",
    "\n",
    "\n",
    "\"\"\"Implicit Type Conversion (Coercion): Python automatically performs some type conversions in certain situations, such as combining different data types in expressions. For example:\"\"\"\n",
    "int_value = 5\n",
    "float_value = 3.14\n",
    "\n",
    "result = int_value + float_value  # int_value is implicitly converted to float before addition\n",
    "print(result)"
   ]
  },
  {
   "cell_type": "code",
   "execution_count": 8,
   "id": "fea50eca-b945-4977-92ea-2fb134fb4b30",
   "metadata": {},
   "outputs": [
    {
     "name": "stdout",
     "output_type": "stream",
     "text": [
      "3\n"
     ]
    }
   ],
   "source": [
    "#Converts to an integer.\n",
    "\n",
    "\n",
    "float_number = 3.14\n",
    "integer_number = int(float_number)\n",
    "print(integer_number)"
   ]
  },
  {
   "cell_type": "code",
   "execution_count": 7,
   "id": "9cbc2d85-b0df-4800-b8c1-fc61e1ed5c6d",
   "metadata": {},
   "outputs": [
    {
     "name": "stdout",
     "output_type": "stream",
     "text": [
      "5.0\n"
     ]
    }
   ],
   "source": [
    "#Converts to a floating-point number.\n",
    "\n",
    "\n",
    "int_value = 5\n",
    "float_value = float(int_value)\n",
    "print(float_value)"
   ]
  },
  {
   "cell_type": "code",
   "execution_count": 6,
   "id": "b6c54a5e-78de-4554-baff-bbec13102974",
   "metadata": {},
   "outputs": [
    {
     "name": "stdout",
     "output_type": "stream",
     "text": [
      "42\n"
     ]
    }
   ],
   "source": [
    "# Converts to a string.\n",
    "\n",
    "\n",
    "number = 42\n",
    "string_number = str(number)\n",
    "print(string_number)"
   ]
  },
  {
   "cell_type": "code",
   "execution_count": 12,
   "id": "7c003dd7-b159-4901-8219-f2aafaf133b1",
   "metadata": {},
   "outputs": [
    {
     "name": "stdout",
     "output_type": "stream",
     "text": [
      "False\n"
     ]
    }
   ],
   "source": [
    " # Converts to a boolean.\n",
    "\n",
    "\n",
    "number = 0\n",
    "boolean_value = bool(number)\n",
    "print(boolean_value)"
   ]
  },
  {
   "cell_type": "code",
   "execution_count": 16,
   "id": "30d866aa-6374-42f4-afde-915bea4307cc",
   "metadata": {},
   "outputs": [
    {
     "name": "stdout",
     "output_type": "stream",
     "text": [
      "Hello, world!\n"
     ]
    }
   ],
   "source": [
    "# Question 4:-\n",
    "\"\"\"How do you write and execute a Python script from the command line?\"\"\"\n",
    "\n",
    "\n",
    "#For example, let's create a simple script named hello.py:\n",
    "print(\"Hello, world!\")\n"
   ]
  },
  {
   "cell_type": "code",
   "execution_count": 17,
   "id": "75c50e1b-8769-4e8a-946a-2c3fcd06f145",
   "metadata": {},
   "outputs": [
    {
     "name": "stdout",
     "output_type": "stream",
     "text": [
      "[2, 3]\n"
     ]
    }
   ],
   "source": [
    "# Question 5:-\n",
    "\"\"\"Given a list my_list = [1, 2, 3, 4, 5], write the code to slice the list and obtain the sub-list [2, 3].\"\"\"\n",
    "\n",
    "\n",
    "my_list = [1, 2, 3, 4, 5]\n",
    "sub_list = my_list[1:3]  # Slicing from index 1 (inclusive) to index 3 (exclusive)\n",
    "print(sub_list)"
   ]
  },
  {
   "cell_type": "code",
   "execution_count": 19,
   "id": "f82595b9-59bc-438e-ae9e-a13b3831685f",
   "metadata": {},
   "outputs": [
    {
     "name": "stdout",
     "output_type": "stream",
     "text": [
      "(3+2j)\n"
     ]
    }
   ],
   "source": [
    "# Question 6:-\n",
    "\"\"\"What is a complex number in mathematics, and how is it represented in Python?\"\"\"\n",
    "\n",
    "\n",
    "# complex_number = real_part + imaginary_part * 1j\n",
    "# Here's an example:\n",
    "\n",
    "# Creating a complex number\n",
    "z = 3 + 2j\n",
    "# Printing the complex number\n",
    "print(z)"
   ]
  },
  {
   "cell_type": "code",
   "execution_count": 20,
   "id": "4a4edc82-4b64-4fb2-8038-c018677de5f5",
   "metadata": {},
   "outputs": [
    {
     "name": "stdout",
     "output_type": "stream",
     "text": [
      "(4-2j)\n",
      "(11-10j)\n"
     ]
    }
   ],
   "source": [
    "# Complex number addition\n",
    "z1 = 3 + 2j\n",
    "z2 = 1 - 4j\n",
    "result_add = z1 + z2\n",
    "print(result_add)\n",
    "\n",
    "# Complex number multiplication\n",
    "result_mult = z1 * z2\n",
    "print(result_mult)\n"
   ]
  },
  {
   "cell_type": "code",
   "execution_count": 28,
   "id": "f196c2f4-0490-4302-9f15-ed47eb09acd3",
   "metadata": {},
   "outputs": [],
   "source": [
    "# Question 7:-\n",
    "\"\"\"What is the correct way to declare a variable named age and assign the value 25 to it?\"\"\"\n",
    "\n",
    "\n",
    "age = 25"
   ]
  },
  {
   "cell_type": "code",
   "execution_count": 23,
   "id": "8f578433-4e77-4e92-a4af-0f678d7932ad",
   "metadata": {},
   "outputs": [],
   "source": [
    "''' Question 8:- Declare a variable named price and assign the value 9.99 to it. What data type does this variable\n",
    "belong to?'''\n",
    "\n",
    "\n",
    "price = 9.99"
   ]
  },
  {
   "cell_type": "code",
   "execution_count": 25,
   "id": "56cfc075-d2aa-4cb8-b86f-a91ca0c030c3",
   "metadata": {},
   "outputs": [
    {
     "name": "stdout",
     "output_type": "stream",
     "text": [
      "Anuj Kumar\n"
     ]
    }
   ],
   "source": [
    "#Question 9:-\n",
    "\"\"\"Create a variable named name and assign your full name to it as a string. How would you print the\n",
    "value of this variable?\"\"\"\n",
    "\n",
    "\n",
    "name = \"Anuj Kumar\"\n",
    "print (name)"
   ]
  },
  {
   "cell_type": "code",
   "execution_count": 27,
   "id": "19d834c2-4cd9-43ff-8738-9767f2028fc4",
   "metadata": {},
   "outputs": [
    {
     "name": "stdout",
     "output_type": "stream",
     "text": [
      "Anuj!\n"
     ]
    }
   ],
   "source": [
    "# Question 10:-\n",
    "\"\"\"Given the string \"Hello, World!\", extract the substring \"World\".\"\"\"\n",
    "\n",
    "original_string = \"Hello, Anuj!\"\n",
    "substring = original_string[7:12]\n",
    "print(substring)"
   ]
  },
  {
   "cell_type": "code",
   "execution_count": null,
   "id": "862bd4a4-9f5e-4789-a117-b7c6d02c5572",
   "metadata": {},
   "outputs": [],
   "source": [
    "# Question 10:-\n",
    "\"\"\"Create a variable named \"is_student\" and assign it a boolean value indicating whether you are\n",
    "currently a student or not.\"\"\"\n",
    "\n",
    "\n",
    "is_student = True  # If you are a student\n",
    "# or\n",
    "is_student = False  # If you are not a student\n"
   ]
  }
 ],
 "metadata": {
  "kernelspec": {
   "display_name": "Python 3 (ipykernel)",
   "language": "python",
   "name": "python3"
  },
  "language_info": {
   "codemirror_mode": {
    "name": "ipython",
    "version": 3
   },
   "file_extension": ".py",
   "mimetype": "text/x-python",
   "name": "python",
   "nbconvert_exporter": "python",
   "pygments_lexer": "ipython3",
   "version": "3.10.8"
  }
 },
 "nbformat": 4,
 "nbformat_minor": 5
}
